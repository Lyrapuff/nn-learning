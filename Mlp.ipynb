{
  "nbformat": 4,
  "nbformat_minor": 0,
  "metadata": {
    "colab": {
      "provenance": [],
      "authorship_tag": "ABX9TyP8bEIiaD3+fcxageTkGEo8"
    },
    "kernelspec": {
      "name": "python3",
      "display_name": "Python 3"
    },
    "language_info": {
      "name": "python"
    }
  },
  "cells": [
    {
      "cell_type": "code",
      "execution_count": null,
      "metadata": {
        "id": "Q51S13iXikbN"
      },
      "outputs": [],
      "source": [
        "import torch\n",
        "import torch.nn.functional as F\n",
        "import matplotlib.pyplot as plt\n",
        "%matplotlib inline"
      ]
    },
    {
      "cell_type": "code",
      "source": [
        "words = open('names_jp.txt', 'r').read().splitlines()\n",
        "\n",
        "chars = sorted(list(set(''.join(words))))\n",
        "stoi = {s:i+1 for i,s in enumerate(chars)}\n",
        "stoi['.'] = 0\n",
        "itos = {i:s for s,i in stoi.items()}\n",
        "\n",
        "block_size = 4\n",
        "\n",
        "def build_dataset(words):\n",
        "  X, Y = [], []\n",
        "\n",
        "  for w in words:\n",
        "    context = [0] * block_size\n",
        "\n",
        "    for ch in w + '.':\n",
        "      ix = stoi[ch]\n",
        "      X.append(context)\n",
        "      Y.append(ix)\n",
        "      context = context[1:] + [ix]\n",
        "\n",
        "  X = torch.tensor(X)\n",
        "  Y = torch.tensor(Y)\n",
        "\n",
        "  print(X.shape, Y.shape)\n",
        "\n",
        "  return X, Y\n",
        "  \n",
        "import random\n",
        "\n",
        "random.seed(42)\n",
        "random.shuffle(words)\n",
        "\n",
        "n1 = int(0.8 * len(words))\n",
        "n2 = int(0.9 * len(words))\n",
        "\n",
        "trainX, trainY = build_dataset(words[:n1])\n",
        "devX, devY = build_dataset(words[n1:n2])\n",
        "testX, testY = build_dataset(words[n2:])"
      ],
      "metadata": {
        "id": "5K04ZkqtkO59",
        "colab": {
          "base_uri": "https://localhost:8080/"
        },
        "outputId": "09a27624-9291-47f5-c07a-4d177ad4002e"
      },
      "execution_count": null,
      "outputs": [
        {
          "output_type": "stream",
          "name": "stdout",
          "text": [
            "torch.Size([2023, 4]) torch.Size([2023])\n",
            "torch.Size([251, 4]) torch.Size([251])\n",
            "torch.Size([256, 4]) torch.Size([256])\n"
          ]
        }
      ]
    },
    {
      "cell_type": "code",
      "source": [
        "g = torch.Generator().manual_seed(2147483647)\n",
        "\n",
        "C = torch.randn((len(stoi), 10), generator=g)\n",
        "\n",
        "W1 = torch.randn((block_size * 10, 30), generator=g)\n",
        "b1 = torch.randn(30, generator=g)\n",
        "\n",
        "W2 = torch.randn((30, len(stoi)), generator=g)\n",
        "b2 = torch.randn(len(stoi), generator=g)\n",
        "\n",
        "parameters = [C, W1, b1, W2, b2]\n",
        "\n",
        "for p in parameters:\n",
        "  p.requires_grad = True\n",
        "\n",
        "print(sum(p.nelement() for p in parameters))"
      ],
      "metadata": {
        "id": "cqYVMo1s4x4D",
        "colab": {
          "base_uri": "https://localhost:8080/"
        },
        "outputId": "9a5cefaa-b167-4c95-ab22-c96ae47de2f1"
      },
      "execution_count": null,
      "outputs": [
        {
          "output_type": "stream",
          "name": "stdout",
          "text": [
            "1838\n"
          ]
        }
      ]
    },
    {
      "cell_type": "code",
      "source": [
        "lossi = []\n",
        "stepi = []"
      ],
      "metadata": {
        "id": "a4AaiHwX6WSo"
      },
      "execution_count": null,
      "outputs": []
    },
    {
      "cell_type": "code",
      "source": [
        "for i in range(200000):\n",
        "  \n",
        "  # minibatch construct\n",
        "  ix = torch.randint(0, trainX.shape[0], (64,))\n",
        "\n",
        "  # forward pass\n",
        "  emb = C[trainX[ix]] # (32, 3, 10)\n",
        "  h = torch.tanh(emb.view(-1, block_size * 10) @ W1 + b1) # (32, 200)\n",
        "  logits = h @ W2 + b2 # (32, 27)\n",
        "  loss = F.cross_entropy(logits, trainY[ix])\n",
        "  \n",
        "  # backward pass\n",
        "  for p in parameters:\n",
        "    p.grad = None\n",
        "  loss.backward()\n",
        "  \n",
        "  # update\n",
        "  lr = 0.1 if i < 100000 else 0.01\n",
        "  for p in parameters:\n",
        "    p.data += -lr * p.grad\n",
        "\n",
        "  # track stats\n",
        "  stepi.append(i)\n",
        "  lossi.append(loss.log10().item())\n"
      ],
      "metadata": {
        "id": "yGrxEoYn6YR3"
      },
      "execution_count": null,
      "outputs": []
    },
    {
      "cell_type": "code",
      "source": [
        "plt.plot(stepi, lossi)"
      ],
      "metadata": {
        "colab": {
          "base_uri": "https://localhost:8080/",
          "height": 448
        },
        "id": "MW--qNMB6fja",
        "outputId": "78680bae-2eab-4048-fc63-774dfb65a029"
      },
      "execution_count": null,
      "outputs": [
        {
          "output_type": "execute_result",
          "data": {
            "text/plain": [
              "[<matplotlib.lines.Line2D at 0x7fe9b025f280>]"
            ]
          },
          "metadata": {},
          "execution_count": 10
        },
        {
          "output_type": "display_data",
          "data": {
            "text/plain": [
              "<Figure size 640x480 with 1 Axes>"
            ],
            "image/png": "[encoded data removed]"
          },
          "metadata": {}
        }
      ]
    },
    {
      "cell_type": "code",
      "source": [
        "# train loss\n",
        "emb = C[trainX] # (32, 3, 2)\n",
        "h = torch.tanh(emb.view(-1, block_size * 10) @ W1 + b1) # (32, 100)\n",
        "logits = h @ W2 + b2 # (32, 27)\n",
        "loss = F.cross_entropy(logits, trainY)\n",
        "loss"
      ],
      "metadata": {
        "colab": {
          "base_uri": "https://localhost:8080/"
        },
        "id": "5fFr6EjN8zVU",
        "outputId": "015d7376-f9bd-4b84-8a32-77f28892a233"
      },
      "execution_count": null,
      "outputs": [
        {
          "output_type": "execute_result",
          "data": {
            "text/plain": [
              "tensor(2.2935, grad_fn=<NllLossBackward0>)"
            ]
          },
          "metadata": {},
          "execution_count": 21
        }
      ]
    },
    {
      "cell_type": "code",
      "source": [
        "# test loss\n",
        "emb = C[testX] # (32, 3, 2)\n",
        "h = torch.tanh(emb.view(-1, block_size * 10) @ W1 + b1) # (32, 100)\n",
        "logits = h @ W2 + b2 # (32, 27)\n",
        "loss = F.cross_entropy(logits, testY)\n",
        "loss"
      ],
      "metadata": {
        "colab": {
          "base_uri": "https://localhost:8080/"
        },
        "id": "xjGCdrAD6r67",
        "outputId": "f1dfe621-6a0a-46c1-807a-4b0bb1afb5cb"
      },
      "execution_count": null,
      "outputs": [
        {
          "output_type": "execute_result",
          "data": {
            "text/plain": [
              "tensor(3.5723, grad_fn=<NllLossBackward0>)"
            ]
          },
          "metadata": {},
          "execution_count": 22
        }
      ]
    },
    {
      "cell_type": "code",
      "source": [
        "# sample from the model\n",
        "g = torch.Generator()\n",
        "\n",
        "for _ in range(20):\n",
        "    \n",
        "    out = []\n",
        "    context = [0] * block_size # initialize with all ...\n",
        "    while True:\n",
        "      emb = C[torch.tensor([context])] # (1,block_size,d)\n",
        "      h = torch.tanh(emb.view(1, -1) @ W1 + b1)\n",
        "      logits = h @ W2 + b2\n",
        "      probs = F.softmax(logits, dim=1)\n",
        "      ix = torch.multinomial(probs, num_samples=1, generator=g).item()\n",
        "      context = context[1:] + [ix]\n",
        "      out.append(ix)\n",
        "      if ix == 0:\n",
        "        break\n",
        "    \n",
        "    print(''.join(itos[i] for i in out))"
      ],
      "metadata": {
        "colab": {
          "base_uri": "https://localhost:8080/"
        },
        "id": "NVFrIFNIV0FP",
        "outputId": "c0c57b96-3466-452b-b81b-11b1d29c78c8"
      },
      "execution_count": null,
      "outputs": [
        {
          "output_type": "stream",
          "name": "stdout",
          "text": [
            "るこ.\n",
            "ひぼかよ.\n",
            "かいこ.\n",
            "となこ.\n",
            "まえみ.\n",
            "れい.\n",
            "ふんじ.\n",
            "おさは.\n",
            "きずし.\n",
            "しとぱ.\n",
            "ゆめじ.\n",
            "まとでん.\n",
            "あきよし.\n",
            "あきふい.\n",
            "まい.\n",
            "あいこ.\n",
            "かきじよ.\n",
            "ます.\n",
            "しあ.\n",
            "かたのけ.\n"
          ]
        }
      ]
    }
  ]
}